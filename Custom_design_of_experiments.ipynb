{
 "cells": [
  {
   "cell_type": "markdown",
   "metadata": {},
   "source": [
    "# Custom design of experiments (custom DOE)\n",
    "Reference:    https://datachemeng.com/designofexperimentscodes/"
   ]
  },
  {
   "cell_type": "code",
   "execution_count": 1,
   "metadata": {},
   "outputs": [
    {
     "name": "stderr",
     "output_type": "stream",
     "text": [
      "C:\\Users\\mmm\\Anaconda3\\lib\\site-packages\\statsmodels\\tools\\_testing.py:19: FutureWarning: pandas.util.testing is deprecated. Use the functions in the public API at pandas.testing instead.\n",
      "  import pandas.util.testing as tm\n"
     ]
    }
   ],
   "source": [
    "import numpy as np\n",
    "import pandas as pd\n",
    "from numpy import matlib\n",
    "import matplotlib.pyplot as plt\n",
    "import seaborn as sns\n",
    "import itertools\n",
    "\n",
    "%matplotlib inline"
   ]
  },
  {
   "cell_type": "markdown",
   "metadata": {},
   "source": [
    "### Determine variables"
   ]
  },
  {
   "cell_type": "code",
   "execution_count": 2,
   "metadata": {},
   "outputs": [],
   "source": [
    "# Experiment conditions\n",
    "variables = {'var_1': [100.0, 150.0, 200.0],        # process 1 temperature  (example)\n",
    "             'var_2': [1.0, 2.0, 3.0],              # process 1 time         (example)\n",
    "             'var_3': [300.0, 350.0, 400.0],        # process 2 temperature  (example)\n",
    "             'var_4': [2.0, 2.5, 3.0],              # process 2 time         (example)\n",
    "             'var_5': [200.0, 225.0, 250.0],        # process 3 temperature  (example)\n",
    "             }"
   ]
  },
  {
   "cell_type": "code",
   "execution_count": 3,
   "metadata": {},
   "outputs": [
    {
     "data": {
      "text/plain": [
       "{'var_1': 'temp_1',\n",
       " 'var_2': 'time_1',\n",
       " 'var_3': 'temp_2',\n",
       " 'var_4': 'time_2',\n",
       " 'var_5': 'cooling_rate'}"
      ]
     },
     "execution_count": 3,
     "metadata": {},
     "output_type": "execute_result"
    }
   ],
   "source": [
    "# Make experiment condition dictionary for future use\n",
    "val_name = variables.keys()\n",
    "process_name = ['temp_1', 'time_1', 'temp_2', 'time_2', 'cooling_rate', 'additive']\n",
    "process_cond = dict(zip(val_name, process_name))\n",
    "process_cond"
   ]
  },
  {
   "cell_type": "markdown",
   "metadata": {},
   "source": [
    "### Make all possible experiments for later random search"
   ]
  },
  {
   "cell_type": "code",
   "execution_count": 4,
   "metadata": {},
   "outputs": [
    {
     "name": "stdout",
     "output_type": "stream",
     "text": [
      "Number of all possible combinations =  243\n"
     ]
    }
   ],
   "source": [
    "all_experiments = list(itertools.product(variables['var_1'], variables['var_2'], variables['var_3'],\n",
    "                                         variables['var_4'], variables['var_5']))\n",
    "\n",
    "print('Number of all possible combinations = ', len(all_experiments))"
   ]
  },
  {
   "cell_type": "code",
   "execution_count": 5,
   "metadata": {
    "scrolled": false
   },
   "outputs": [
    {
     "name": "stdout",
     "output_type": "stream",
     "text": [
      "Shape of the DataFrame (243, 5)\n"
     ]
    },
    {
     "data": {
      "text/html": [
       "<div>\n",
       "<style scoped>\n",
       "    .dataframe tbody tr th:only-of-type {\n",
       "        vertical-align: middle;\n",
       "    }\n",
       "\n",
       "    .dataframe tbody tr th {\n",
       "        vertical-align: top;\n",
       "    }\n",
       "\n",
       "    .dataframe thead th {\n",
       "        text-align: right;\n",
       "    }\n",
       "</style>\n",
       "<table border=\"1\" class=\"dataframe\">\n",
       "  <thead>\n",
       "    <tr style=\"text-align: right;\">\n",
       "      <th></th>\n",
       "      <th>temp_1</th>\n",
       "      <th>time_1</th>\n",
       "      <th>temp_2</th>\n",
       "      <th>time_2</th>\n",
       "      <th>cooling_rate</th>\n",
       "    </tr>\n",
       "  </thead>\n",
       "  <tbody>\n",
       "    <tr>\n",
       "      <th>0</th>\n",
       "      <td>100.0</td>\n",
       "      <td>1.0</td>\n",
       "      <td>300.0</td>\n",
       "      <td>2.0</td>\n",
       "      <td>200.0</td>\n",
       "    </tr>\n",
       "    <tr>\n",
       "      <th>1</th>\n",
       "      <td>100.0</td>\n",
       "      <td>1.0</td>\n",
       "      <td>300.0</td>\n",
       "      <td>2.0</td>\n",
       "      <td>225.0</td>\n",
       "    </tr>\n",
       "    <tr>\n",
       "      <th>2</th>\n",
       "      <td>100.0</td>\n",
       "      <td>1.0</td>\n",
       "      <td>300.0</td>\n",
       "      <td>2.0</td>\n",
       "      <td>250.0</td>\n",
       "    </tr>\n",
       "    <tr>\n",
       "      <th>3</th>\n",
       "      <td>100.0</td>\n",
       "      <td>1.0</td>\n",
       "      <td>300.0</td>\n",
       "      <td>2.5</td>\n",
       "      <td>200.0</td>\n",
       "    </tr>\n",
       "    <tr>\n",
       "      <th>4</th>\n",
       "      <td>100.0</td>\n",
       "      <td>1.0</td>\n",
       "      <td>300.0</td>\n",
       "      <td>2.5</td>\n",
       "      <td>225.0</td>\n",
       "    </tr>\n",
       "  </tbody>\n",
       "</table>\n",
       "</div>"
      ],
      "text/plain": [
       "   temp_1  time_1  temp_2  time_2  cooling_rate\n",
       "0   100.0     1.0   300.0     2.0         200.0\n",
       "1   100.0     1.0   300.0     2.0         225.0\n",
       "2   100.0     1.0   300.0     2.0         250.0\n",
       "3   100.0     1.0   300.0     2.5         200.0\n",
       "4   100.0     1.0   300.0     2.5         225.0"
      ]
     },
     "execution_count": 5,
     "metadata": {},
     "output_type": "execute_result"
    }
   ],
   "source": [
    "# Convert to DataFrame for future use\n",
    "all_experiments_df = pd.DataFrame(all_experiments)\n",
    "all_experiments_df.columns = process_cond.values()\n",
    "\n",
    "print('Shape of the DataFrame', all_experiments_df.shape)\n",
    "all_experiments_df.head()"
   ]
  },
  {
   "cell_type": "markdown",
   "metadata": {},
   "source": [
    "Now, preparation for experiment data is done.\n",
    "### DOE"
   ]
  },
  {
   "cell_type": "code",
   "execution_count": 6,
   "metadata": {},
   "outputs": [],
   "source": [
    "# DOE preparation\n",
    "np.random.seed(111)                                     # fix random seed\n",
    "experiment_index = np.arange(len(all_experiments_df))\n",
    "number_of_random_searches = 10000                       # iteration to find better combinations\n",
    "number_of_experiments = 12                              # number of experiments that can be conducted"
   ]
  },
  {
   "cell_type": "code",
   "execution_count": 7,
   "metadata": {},
   "outputs": [],
   "source": [
    "# Standardization function\n",
    "def auto_scale(data_frame):\n",
    "    autoscaled_all_experiments = (data_frame - data_frame.mean(axis=0)) / data_frame.std(axis=0)\n",
    "    return np.array(autoscaled_all_experiments)"
   ]
  },
  {
   "cell_type": "markdown",
   "metadata": {},
   "source": [
    "### DOE optimal type = [1] Maximize determinant of dot product (X.T, X)"
   ]
  },
  {
   "cell_type": "code",
   "execution_count": 8,
   "metadata": {},
   "outputs": [],
   "source": [
    "#del(best_optimal_monitor, timing_of_best)\n",
    "\n",
    "best_optimal_monitor = []\n",
    "timing_of_best = []"
   ]
  },
  {
   "cell_type": "code",
   "execution_count": 9,
   "metadata": {},
   "outputs": [
    {
     "name": "stdout",
     "output_type": "stream",
     "text": [
      "6 \t 101386.48157543392\n",
      "58 \t 130049.02574595046\n",
      "837 \t 132847.89061162926\n",
      "1926 \t 138738.65116470438\n",
      "2934 \t 140516.21061271484\n",
      "6598 \t 143910.53947174762\n",
      "7074 \t 144284.41247804856\n",
      "7788 \t 144713.6571420245\n"
     ]
    }
   ],
   "source": [
    "for random_search_number in range(number_of_random_searches):\n",
    "    new_selected_experiment_numbers = np.random.randint(0, len(all_experiments_df), number_of_experiments)\n",
    "    new_selected_experiments = all_experiments_df.loc[new_selected_experiment_numbers]\n",
    "    autoscaled_new_selected_experiments = auto_scale(new_selected_experiments)\n",
    "    X = autoscaled_new_selected_experiments\n",
    "    \n",
    "    optimal_value = np.linalg.det(np.dot(X.T, X))\n",
    "               \n",
    "    if random_search_number == 0:\n",
    "        best_optimal_value = optimal_value\n",
    "        selected_experiment_indexes = new_selected_experiment_numbers.copy()\n",
    "        \n",
    "    if best_optimal_value < optimal_value:\n",
    "        best_optimal_value = optimal_value\n",
    "        selected_experiment_indexes = new_selected_experiment_numbers.copy()\n",
    "        print(random_search_number, '\\t', best_optimal_value)\n",
    "        \n",
    "        best_optimal_monitor.append(best_optimal_value)\n",
    "        timing_of_best.append(random_search_number)\n",
    "        \n",
    "    continue\n",
    "\n",
    "final_selected_experiments = all_experiments_df.loc[selected_experiment_indexes]"
   ]
  },
  {
   "cell_type": "code",
   "execution_count": 10,
   "metadata": {
    "scrolled": true
   },
   "outputs": [
    {
     "data": {
      "image/png": "[encoded data removed]",
      "text/plain": [
       "<Figure size 432x288 with 1 Axes>"
      ]
     },
     "metadata": {
      "needs_background": "light"
     },
     "output_type": "display_data"
    }
   ],
   "source": [
    "plt.plot(timing_of_best, best_optimal_monitor)\n",
    "plt.xlabel('Times that the max value appeared in iteration')\n",
    "plt.ylabel('Max determinant of dot product (X.T, X)')\n",
    "plt.show()"
   ]
  },
  {
   "cell_type": "code",
   "execution_count": 11,
   "metadata": {
    "scrolled": false
   },
   "outputs": [
    {
     "data": {
      "image/png": "[encoded data removed]",
      "text/plain": [
       "<Figure size 432x432 with 2 Axes>"
      ]
     },
     "metadata": {
      "needs_background": "light"
     },
     "output_type": "display_data"
    }
   ],
   "source": [
    "colormap = 'Spectral'\n",
    "plt.figure(figsize=(6, 6))\n",
    "plt.title('Correlations of Features', y=1.05, size=15)\n",
    "sns.heatmap(final_selected_experiments.astype(float).corr(), linewidths = 0.1, vmax = 1.0, vmin = -1.0,\n",
    "            square=True, cmap=colormap, linecolor='white', annot = True)\n",
    "plt.ylim(final_selected_experiments.astype(float).corr().shape[0], 0)\n",
    "plt.show()"
   ]
  },
  {
   "cell_type": "code",
   "execution_count": 12,
   "metadata": {},
   "outputs": [
    {
     "data": {
      "text/plain": [
       "0.17391304347826086"
      ]
     },
     "execution_count": 12,
     "metadata": {},
     "output_type": "execute_result"
    }
   ],
   "source": [
    "x = np.corrcoef(final_selected_experiments.transpose()).flatten()\n",
    "final_selected_experiments.to_csv('final_selected_experiments_type[1].csv')\n",
    "corr = [-1.0 if i > 0.95 else np.abs(i) for i in x]\n",
    "np.max(corr)"
   ]
  },
  {
   "cell_type": "markdown",
   "metadata": {},
   "source": [
    "### DOE optimal type = [2] Minimize sum of diagonal of inverse matrix of dot product (X.T, X)"
   ]
  },
  {
   "cell_type": "code",
   "execution_count": 13,
   "metadata": {},
   "outputs": [],
   "source": [
    "del best_optimal_monitor, timing_of_best\n",
    "\n",
    "best_optimal_monitor = []\n",
    "timing_of_best = []"
   ]
  },
  {
   "cell_type": "code",
   "execution_count": 14,
   "metadata": {},
   "outputs": [
    {
     "name": "stdout",
     "output_type": "stream",
     "text": [
      "5 \t 0.5764413199794556\n",
      "9 \t 0.5646017610214528\n",
      "13 \t 0.5541748930374524\n",
      "23 \t 0.5453229975438891\n",
      "39 \t 0.49055606772648574\n",
      "931 \t 0.4822572320873702\n",
      "1527 \t 0.47316947091562617\n"
     ]
    }
   ],
   "source": [
    "for random_search_number in range(number_of_random_searches):\n",
    "    new_selected_experiment_numbers = np.random.randint(0, len(all_experiments_df), number_of_experiments)\n",
    "    new_selected_experiments = all_experiments_df.loc[new_selected_experiment_numbers]\n",
    "    autoscaled_new_selected_experiments = auto_scale(new_selected_experiments)\n",
    "    X = autoscaled_new_selected_experiments\n",
    "    \n",
    "    optimal_value = np.sum(np.trace(np.linalg.inv(np.dot(X.T, X))))\n",
    "               \n",
    "    if random_search_number == 0:\n",
    "        best_optimal_value = optimal_value\n",
    "        selected_experiment_indexes = new_selected_experiment_numbers.copy()\n",
    "        \n",
    "    if best_optimal_value > optimal_value:\n",
    "        best_optimal_value = optimal_value\n",
    "        selected_experiment_indexes = new_selected_experiment_numbers.copy()\n",
    "        print(random_search_number, '\\t', best_optimal_value)\n",
    "        \n",
    "        best_optimal_monitor.append(best_optimal_value)\n",
    "        timing_of_best.append(random_search_number)\n",
    "        \n",
    "    continue\n",
    "    \n",
    "final_selected_experiments = all_experiments_df.loc[selected_experiment_indexes]"
   ]
  },
  {
   "cell_type": "code",
   "execution_count": 15,
   "metadata": {},
   "outputs": [
    {
     "data": {
      "image/png": "[encoded data removed]",
      "text/plain": [
       "<Figure size 432x288 with 1 Axes>"
      ]
     },
     "metadata": {
      "needs_background": "light"
     },
     "output_type": "display_data"
    }
   ],
   "source": [
    "plt.plot(timing_of_best, best_optimal_monitor)\n",
    "plt.xlabel('Times that the min value appeared in iteration')\n",
    "plt.ylabel(' Min sum of diag of inv of dot product (X.T, X)')\n",
    "plt.show()"
   ]
  },
  {
   "cell_type": "code",
   "execution_count": 16,
   "metadata": {},
   "outputs": [
    {
     "data": {
      "image/png": "[encoded data removed]",
      "text/plain": [
       "<Figure size 432x432 with 2 Axes>"
      ]
     },
     "metadata": {
      "needs_background": "light"
     },
     "output_type": "display_data"
    }
   ],
   "source": [
    "colormap = 'Spectral'\n",
    "plt.figure(figsize=(6, 6))\n",
    "plt.title('Correlations of Features', y=1.05, size=15)\n",
    "sns.heatmap(final_selected_experiments.astype(float).corr(), linewidths = 0.1, vmax = 1.0, vmin = -1.0,\n",
    "            square=True, cmap=colormap, linecolor='white', annot = True)\n",
    "plt.ylim(final_selected_experiments.astype(float).corr().shape[0], 0)\n",
    "plt.show()"
   ]
  },
  {
   "cell_type": "code",
   "execution_count": 17,
   "metadata": {},
   "outputs": [
    {
     "data": {
      "text/plain": [
       "0.2528608687120869"
      ]
     },
     "execution_count": 17,
     "metadata": {},
     "output_type": "execute_result"
    }
   ],
   "source": [
    "x = np.corrcoef(final_selected_experiments.transpose()).flatten()\n",
    "final_selected_experiments.to_csv('final_selected_experiments_type[2].csv')\n",
    "corr = [-1.0 if i > 0.95 else np.abs(i) for i in x]\n",
    "np.max(corr)"
   ]
  },
  {
   "cell_type": "markdown",
   "metadata": {},
   "source": [
    "### Check counting the same raws between [1] and [2]"
   ]
  },
  {
   "cell_type": "code",
   "execution_count": 18,
   "metadata": {},
   "outputs": [
    {
     "name": "stdout",
     "output_type": "stream",
     "text": [
      "The identical raws\n"
     ]
    },
    {
     "data": {
      "text/html": [
       "<div>\n",
       "<style scoped>\n",
       "    .dataframe tbody tr th:only-of-type {\n",
       "        vertical-align: middle;\n",
       "    }\n",
       "\n",
       "    .dataframe tbody tr th {\n",
       "        vertical-align: top;\n",
       "    }\n",
       "\n",
       "    .dataframe thead th {\n",
       "        text-align: right;\n",
       "    }\n",
       "</style>\n",
       "<table border=\"1\" class=\"dataframe\">\n",
       "  <thead>\n",
       "    <tr style=\"text-align: right;\">\n",
       "      <th></th>\n",
       "      <th>temp_1</th>\n",
       "      <th>time_1</th>\n",
       "      <th>temp_2</th>\n",
       "      <th>time_2</th>\n",
       "      <th>cooling_rate</th>\n",
       "    </tr>\n",
       "  </thead>\n",
       "  <tbody>\n",
       "    <tr>\n",
       "      <th>0</th>\n",
       "      <td>150.0</td>\n",
       "      <td>3.0</td>\n",
       "      <td>350.0</td>\n",
       "      <td>3.0</td>\n",
       "      <td>225.0</td>\n",
       "    </tr>\n",
       "  </tbody>\n",
       "</table>\n",
       "</div>"
      ],
      "text/plain": [
       "   temp_1  time_1  temp_2  time_2  cooling_rate\n",
       "0   150.0     3.0   350.0     3.0         225.0"
      ]
     },
     "execution_count": 18,
     "metadata": {},
     "output_type": "execute_result"
    }
   ],
   "source": [
    "final_1 = pd.read_csv('final_selected_experiments_type[1].csv')\n",
    "final_2 = pd.read_csv('final_selected_experiments_type[2].csv')\n",
    "\n",
    "df_same = pd.merge(final_1.iloc[:, 1:7], final_2.iloc[:, 1:7], how = 'inner')\n",
    "print('The identical raws')\n",
    "df_same"
   ]
  },
  {
   "cell_type": "markdown",
   "metadata": {},
   "source": [
    "## APPENDIX - comparison with orthogonal array and other optimal types"
   ]
  },
  {
   "cell_type": "code",
   "execution_count": 19,
   "metadata": {},
   "outputs": [
    {
     "data": {
      "text/html": [
       "<div>\n",
       "<style scoped>\n",
       "    .dataframe tbody tr th:only-of-type {\n",
       "        vertical-align: middle;\n",
       "    }\n",
       "\n",
       "    .dataframe tbody tr th {\n",
       "        vertical-align: top;\n",
       "    }\n",
       "\n",
       "    .dataframe thead th {\n",
       "        text-align: right;\n",
       "    }\n",
       "</style>\n",
       "<table border=\"1\" class=\"dataframe\">\n",
       "  <thead>\n",
       "    <tr style=\"text-align: right;\">\n",
       "      <th></th>\n",
       "      <th>Factor-1</th>\n",
       "      <th>Factor-2</th>\n",
       "      <th>Factor-3</th>\n",
       "      <th>Factor-4</th>\n",
       "      <th>Factor-5</th>\n",
       "      <th>Factor-6</th>\n",
       "      <th>Factor-7</th>\n",
       "      <th>Factor-8</th>\n",
       "    </tr>\n",
       "  </thead>\n",
       "  <tbody>\n",
       "    <tr>\n",
       "      <th>0</th>\n",
       "      <td>1</td>\n",
       "      <td>1</td>\n",
       "      <td>1</td>\n",
       "      <td>1</td>\n",
       "      <td>1</td>\n",
       "      <td>1</td>\n",
       "      <td>1</td>\n",
       "      <td>1</td>\n",
       "    </tr>\n",
       "    <tr>\n",
       "      <th>1</th>\n",
       "      <td>1</td>\n",
       "      <td>1</td>\n",
       "      <td>2</td>\n",
       "      <td>2</td>\n",
       "      <td>2</td>\n",
       "      <td>2</td>\n",
       "      <td>2</td>\n",
       "      <td>2</td>\n",
       "    </tr>\n",
       "    <tr>\n",
       "      <th>2</th>\n",
       "      <td>1</td>\n",
       "      <td>1</td>\n",
       "      <td>3</td>\n",
       "      <td>3</td>\n",
       "      <td>3</td>\n",
       "      <td>3</td>\n",
       "      <td>3</td>\n",
       "      <td>3</td>\n",
       "    </tr>\n",
       "    <tr>\n",
       "      <th>3</th>\n",
       "      <td>1</td>\n",
       "      <td>2</td>\n",
       "      <td>1</td>\n",
       "      <td>1</td>\n",
       "      <td>2</td>\n",
       "      <td>2</td>\n",
       "      <td>3</td>\n",
       "      <td>3</td>\n",
       "    </tr>\n",
       "    <tr>\n",
       "      <th>4</th>\n",
       "      <td>1</td>\n",
       "      <td>2</td>\n",
       "      <td>2</td>\n",
       "      <td>2</td>\n",
       "      <td>3</td>\n",
       "      <td>3</td>\n",
       "      <td>1</td>\n",
       "      <td>1</td>\n",
       "    </tr>\n",
       "  </tbody>\n",
       "</table>\n",
       "</div>"
      ],
      "text/plain": [
       "   Factor-1  Factor-2  Factor-3  Factor-4  Factor-5  Factor-6  Factor-7  \\\n",
       "0         1         1         1         1         1         1         1   \n",
       "1         1         1         2         2         2         2         2   \n",
       "2         1         1         3         3         3         3         3   \n",
       "3         1         2         1         1         2         2         3   \n",
       "4         1         2         2         2         3         3         1   \n",
       "\n",
       "   Factor-8  \n",
       "0         1  \n",
       "1         2  \n",
       "2         3  \n",
       "3         3  \n",
       "4         1  "
      ]
     },
     "execution_count": 19,
     "metadata": {},
     "output_type": "execute_result"
    }
   ],
   "source": [
    "# See correlations in L18 orthogonal array for example\n",
    "orthogonal = pd.read_csv('L18_example.csv')\n",
    "orthogonal = orthogonal.iloc[:, 1:9]\n",
    "orthogonal.head()"
   ]
  },
  {
   "cell_type": "code",
   "execution_count": 20,
   "metadata": {},
   "outputs": [
    {
     "data": {
      "image/png": "[encoded data removed]",
      "text/plain": [
       "<Figure size 432x432 with 2 Axes>"
      ]
     },
     "metadata": {
      "needs_background": "light"
     },
     "output_type": "display_data"
    }
   ],
   "source": [
    "colormap = 'Spectral'\n",
    "plt.figure(figsize=(6, 6))\n",
    "plt.title('Correlations of Features', y=1.05, size=15)\n",
    "sns.heatmap(orthogonal.astype(float).corr(), linewidths = 0.1, vmax = 1.0, vmin = -1.0,\n",
    "            square=True, cmap=colormap, linecolor='white', annot = True)\n",
    "plt.ylim(orthogonal.astype(float).corr().shape[0], 0)\n",
    "plt.show()"
   ]
  },
  {
   "cell_type": "markdown",
   "metadata": {},
   "source": [
    "### DOE optimal type = [3] Maximize minimum value of eigenvalue of dot product (X.T, X)"
   ]
  },
  {
   "cell_type": "code",
   "execution_count": 21,
   "metadata": {},
   "outputs": [],
   "source": [
    "del best_optimal_monitor, timing_of_best\n",
    "\n",
    "best_optimal_monitor = []\n",
    "timing_of_best = []"
   ]
  },
  {
   "cell_type": "code",
   "execution_count": 22,
   "metadata": {},
   "outputs": [
    {
     "name": "stdout",
     "output_type": "stream",
     "text": [
      "1 \t 3.0081010588269947\n",
      "2 \t 3.104444446060319\n",
      "3 \t 5.074669279137422\n",
      "8 \t 5.160703721503605\n",
      "61 \t 7.201133405129905\n",
      "245 \t 7.917682946450889\n",
      "6295 \t 8.186056027257973\n"
     ]
    }
   ],
   "source": [
    "for random_search_number in range(number_of_random_searches):\n",
    "    new_selected_experiment_numbers = np.random.randint(0, len(all_experiments_df), number_of_experiments)\n",
    "    new_selected_experiments = all_experiments_df.loc[new_selected_experiment_numbers]\n",
    "    autoscaled_new_selected_experiments = auto_scale(new_selected_experiments)\n",
    "    X = autoscaled_new_selected_experiments\n",
    "    \n",
    "    w, v = np.linalg.eig(np.dot(X.T, X))\n",
    "    optimal_value = np.min(w)\n",
    "               \n",
    "    if random_search_number == 0:\n",
    "        best_optimal_value = optimal_value\n",
    "        selected_experiment_indexes = new_selected_experiment_numbers.copy()\n",
    "        \n",
    "    if best_optimal_value < optimal_value:\n",
    "        best_optimal_value = optimal_value\n",
    "        selected_experiment_indexes = new_selected_experiment_numbers.copy()\n",
    "        print(random_search_number, '\\t', best_optimal_value)\n",
    "        \n",
    "        best_optimal_monitor.append(best_optimal_value)\n",
    "        timing_of_best.append(random_search_number)\n",
    "        \n",
    "    continue\n",
    "    \n",
    "final_selected_experiments = all_experiments_df.loc[selected_experiment_indexes]"
   ]
  },
  {
   "cell_type": "code",
   "execution_count": 23,
   "metadata": {},
   "outputs": [
    {
     "data": {
      "image/png": "[encoded data removed]",
      "text/plain": [
       "<Figure size 432x288 with 1 Axes>"
      ]
     },
     "metadata": {
      "needs_background": "light"
     },
     "output_type": "display_data"
    }
   ],
   "source": [
    "plt.plot(timing_of_best, best_optimal_monitor)\n",
    "plt.xlabel('Times that the min value appeared in iteration')\n",
    "plt.ylabel('Max min value of eig of dot product (X.T, X)')\n",
    "plt.show()"
   ]
  },
  {
   "cell_type": "code",
   "execution_count": 24,
   "metadata": {},
   "outputs": [
    {
     "data": {
      "image/png": "[encoded data removed]",
      "text/plain": [
       "<Figure size 432x432 with 2 Axes>"
      ]
     },
     "metadata": {
      "needs_background": "light"
     },
     "output_type": "display_data"
    }
   ],
   "source": [
    "colormap = 'Spectral'\n",
    "plt.figure(figsize=(6, 6))\n",
    "plt.title('Correlations of Features', y=1.05, size=15)\n",
    "sns.heatmap(final_selected_experiments.astype(float).corr(), linewidths = 0.1, vmax = 1.0, vmin = -1.0,\n",
    "            square=True, cmap=colormap, linecolor='white', annot = True)\n",
    "plt.ylim(final_selected_experiments.astype(float).corr().shape[0], 0)\n",
    "plt.show()"
   ]
  },
  {
   "cell_type": "code",
   "execution_count": 25,
   "metadata": {},
   "outputs": [
    {
     "data": {
      "text/plain": [
       "0.21938172723813926"
      ]
     },
     "execution_count": 25,
     "metadata": {},
     "output_type": "execute_result"
    }
   ],
   "source": [
    "x = np.corrcoef(final_selected_experiments.transpose()).flatten()\n",
    "corr = [-1.0 if i > 0.95 else np.abs(i) for i in x]\n",
    "np.max(corr)"
   ]
  },
  {
   "cell_type": "code",
   "execution_count": null,
   "metadata": {},
   "outputs": [],
   "source": []
  }
 ],
 "metadata": {
  "kernelspec": {
   "display_name": "Python 3",
   "language": "python",
   "name": "python3"
  },
  "language_info": {
   "codemirror_mode": {
    "name": "ipython",
    "version": 3
   },
   "file_extension": ".py",
   "mimetype": "text/x-python",
   "name": "python",
   "nbconvert_exporter": "python",
   "pygments_lexer": "ipython3",
   "version": "3.7.4"
  }
 },
 "nbformat": 4,
 "nbformat_minor": 2
}
